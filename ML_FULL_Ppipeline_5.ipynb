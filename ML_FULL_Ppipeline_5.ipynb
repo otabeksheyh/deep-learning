{
 "cells": [
  {
   "cell_type": "code",
   "execution_count": 1,
   "id": "3a06400e",
   "metadata": {},
   "outputs": [],
   "source": [
    "import pandas as pd\n",
    "import numpy as np\n",
    "import sklearn"
   ]
  },
  {
   "cell_type": "code",
   "execution_count": 2,
   "id": "5f4f784c",
   "metadata": {},
   "outputs": [],
   "source": [
    "url = \"https://github.com/ageron/handson-ml2/blob/master/datasets/housing/housing.csv?raw=true\"\n",
    "df = pd.read_csv(url)"
   ]
  },
  {
   "cell_type": "code",
   "execution_count": 3,
   "id": "b48743a2",
   "metadata": {},
   "outputs": [],
   "source": [
    "from sklearn.model_selection import train_test_split\n",
    "train_set, test_set = train_test_split(df, test_size=0.2, random_state=42)\n",
    "\n",
    "x_train = train_set.drop(\"median_house_value\", axis=1)\n",
    "y = train_set['median_house_value'].copy()\n",
    "\n",
    "x_num = x_train.drop('ocean_proximity', axis=1)"
   ]
  },
  {
   "cell_type": "code",
   "execution_count": 4,
   "id": "606c2783",
   "metadata": {},
   "outputs": [],
   "source": [
    "from sklearn.base import BaseEstimator, TransformerMixin\n",
    "\n",
    "# bizga kerak ustunlar indekslari\n",
    "rooms_ix, bedrooms_ix, population_ix, households_ix = 3, 4, 5, 6\n",
    "\n",
    "class CombinedAttributesAdder(BaseEstimator, TransformerMixin):\n",
    "    def __init__(self, add_bedrooms_per_room = True):\n",
    "        self.add_bedrooms_per_room = add_bedrooms_per_room\n",
    "    def fit(self, X, y=None):\n",
    "        return self # bizni funksiyamiz faqat transformer. estimator emas\n",
    "    def transform(self, X):\n",
    "        rooms_per_household = X[:, rooms_ix] / X[:, households_ix]\n",
    "        population_per_household = X[:, population_ix] / X[:, households_ix]\n",
    "        if self.add_bedrooms_per_room: # add_bedrooms_per_room ustuni ixtiyoriy bo'ladi\n",
    "            bedrooms_per_room = X[:, bedrooms_ix] / X[:, rooms_ix]\n",
    "            return np.c_[X, rooms_per_household, population_per_household, bedrooms_per_room]\n",
    "        else:\n",
    "            return np.c_[X, rooms_per_household, population_per_household]"
   ]
  },
  {
   "cell_type": "code",
   "execution_count": 6,
   "id": "60b6cda5",
   "metadata": {},
   "outputs": [],
   "source": [
    "# sonli ustunlar uchun PIPELINE"
   ]
  },
  {
   "cell_type": "code",
   "execution_count": 5,
   "id": "2368c78b",
   "metadata": {},
   "outputs": [],
   "source": [
    "from sklearn.pipeline import Pipeline\n",
    "from sklearn.impute import SimpleImputer\n",
    "from sklearn.preprocessing import OneHotEncoder, StandardScaler\n",
    "\n",
    "num_pipeline = Pipeline([\n",
    "    ('imputer',SimpleImputer(strategy='median')),\n",
    "    ('attribs_adder', CombinedAttributesAdder()),\n",
    "    ('std_scaler', StandardScaler())\n",
    "])\n"
   ]
  },
  {
   "cell_type": "code",
   "execution_count": 7,
   "id": "a04d45c9",
   "metadata": {},
   "outputs": [],
   "source": [
    "# matnli ustunlar uchun Pipeline"
   ]
  },
  {
   "cell_type": "code",
   "execution_count": 8,
   "id": "b9e110c4",
   "metadata": {},
   "outputs": [],
   "source": [
    "from sklearn.compose import ColumnTransformer\n",
    "\n",
    "num_attribs = list(x_num)\n",
    "cat_attribs = ['ocean_proximity']\n",
    "\n",
    "full_pipeline = ColumnTransformer([\n",
    "    ('num', num_pipeline, num_attribs),\n",
    "    ('cat',OneHotEncoder(), cat_attribs)\n",
    "])"
   ]
  },
  {
   "cell_type": "code",
   "execution_count": 9,
   "id": "969fdc86",
   "metadata": {},
   "outputs": [],
   "source": [
    "x_prepared = full_pipeline.fit_transform(x_train)"
   ]
  },
  {
   "cell_type": "code",
   "execution_count": 10,
   "id": "ba4e9bca",
   "metadata": {},
   "outputs": [],
   "source": [
    "#linear regression"
   ]
  },
  {
   "cell_type": "code",
   "execution_count": 11,
   "id": "7f33a429",
   "metadata": {},
   "outputs": [],
   "source": [
    "from sklearn.linear_model import LinearRegression\n",
    "\n",
    "lr_model = LinearRegression()"
   ]
  },
  {
   "cell_type": "code",
   "execution_count": 12,
   "id": "a789237f",
   "metadata": {},
   "outputs": [
    {
     "data": {
      "text/plain": [
       "LinearRegression()"
      ]
     },
     "execution_count": 12,
     "metadata": {},
     "output_type": "execute_result"
    }
   ],
   "source": [
    "lr_model.fit(x_prepared, y)"
   ]
  },
  {
   "cell_type": "code",
   "execution_count": 13,
   "id": "f58dae07",
   "metadata": {},
   "outputs": [],
   "source": [
    "test_data = x_train.sample(10)"
   ]
  },
  {
   "cell_type": "code",
   "execution_count": 15,
   "id": "417798bb",
   "metadata": {},
   "outputs": [
    {
     "data": {
      "text/plain": [
       "1126      87300.0\n",
       "8052     219100.0\n",
       "6707     258300.0\n",
       "416      335600.0\n",
       "5974     180500.0\n",
       "13223    165500.0\n",
       "12856     72700.0\n",
       "11465    252900.0\n",
       "2027      60600.0\n",
       "913      287600.0\n",
       "Name: median_house_value, dtype: float64"
      ]
     },
     "execution_count": 15,
     "metadata": {},
     "output_type": "execute_result"
    }
   ],
   "source": [
    "test_labels = y.loc[test_data.index]\n",
    "test_labels"
   ]
  },
  {
   "cell_type": "code",
   "execution_count": 16,
   "id": "110d0864",
   "metadata": {},
   "outputs": [],
   "source": [
    "test_data_prepared = full_pipeline.transform(test_data)"
   ]
  },
  {
   "cell_type": "code",
   "execution_count": 17,
   "id": "04f2af2d",
   "metadata": {},
   "outputs": [],
   "source": [
    "predicted_labels = lr_model.predict(test_data_prepared)"
   ]
  },
  {
   "cell_type": "code",
   "execution_count": 18,
   "id": "7408e3e2",
   "metadata": {},
   "outputs": [
    {
     "data": {
      "text/plain": [
       "array([ 66493.34601784, 265342.79456962, 244572.24448134, 304799.4726227 ,\n",
       "       162352.83683808, 172224.5899674 ,  94926.49077482, 220668.69490137,\n",
       "        93541.55156377, 288808.70890048])"
      ]
     },
     "execution_count": 18,
     "metadata": {},
     "output_type": "execute_result"
    }
   ],
   "source": [
    "predicted_labels"
   ]
  },
  {
   "cell_type": "code",
   "execution_count": 19,
   "id": "5c71ad15",
   "metadata": {},
   "outputs": [
    {
     "data": {
      "text/html": [
       "<div>\n",
       "<style scoped>\n",
       "    .dataframe tbody tr th:only-of-type {\n",
       "        vertical-align: middle;\n",
       "    }\n",
       "\n",
       "    .dataframe tbody tr th {\n",
       "        vertical-align: top;\n",
       "    }\n",
       "\n",
       "    .dataframe thead th {\n",
       "        text-align: right;\n",
       "    }\n",
       "</style>\n",
       "<table border=\"1\" class=\"dataframe\">\n",
       "  <thead>\n",
       "    <tr style=\"text-align: right;\">\n",
       "      <th></th>\n",
       "      <th>Bashorat</th>\n",
       "      <th>Asl_qiymat</th>\n",
       "    </tr>\n",
       "  </thead>\n",
       "  <tbody>\n",
       "    <tr>\n",
       "      <th>1126</th>\n",
       "      <td>66493.346018</td>\n",
       "      <td>87300.0</td>\n",
       "    </tr>\n",
       "    <tr>\n",
       "      <th>8052</th>\n",
       "      <td>265342.794570</td>\n",
       "      <td>219100.0</td>\n",
       "    </tr>\n",
       "    <tr>\n",
       "      <th>6707</th>\n",
       "      <td>244572.244481</td>\n",
       "      <td>258300.0</td>\n",
       "    </tr>\n",
       "    <tr>\n",
       "      <th>416</th>\n",
       "      <td>304799.472623</td>\n",
       "      <td>335600.0</td>\n",
       "    </tr>\n",
       "    <tr>\n",
       "      <th>5974</th>\n",
       "      <td>162352.836838</td>\n",
       "      <td>180500.0</td>\n",
       "    </tr>\n",
       "    <tr>\n",
       "      <th>13223</th>\n",
       "      <td>172224.589967</td>\n",
       "      <td>165500.0</td>\n",
       "    </tr>\n",
       "    <tr>\n",
       "      <th>12856</th>\n",
       "      <td>94926.490775</td>\n",
       "      <td>72700.0</td>\n",
       "    </tr>\n",
       "    <tr>\n",
       "      <th>11465</th>\n",
       "      <td>220668.694901</td>\n",
       "      <td>252900.0</td>\n",
       "    </tr>\n",
       "    <tr>\n",
       "      <th>2027</th>\n",
       "      <td>93541.551564</td>\n",
       "      <td>60600.0</td>\n",
       "    </tr>\n",
       "    <tr>\n",
       "      <th>913</th>\n",
       "      <td>288808.708900</td>\n",
       "      <td>287600.0</td>\n",
       "    </tr>\n",
       "  </tbody>\n",
       "</table>\n",
       "</div>"
      ],
      "text/plain": [
       "            Bashorat  Asl_qiymat\n",
       "1126    66493.346018     87300.0\n",
       "8052   265342.794570    219100.0\n",
       "6707   244572.244481    258300.0\n",
       "416    304799.472623    335600.0\n",
       "5974   162352.836838    180500.0\n",
       "13223  172224.589967    165500.0\n",
       "12856   94926.490775     72700.0\n",
       "11465  220668.694901    252900.0\n",
       "2027    93541.551564     60600.0\n",
       "913    288808.708900    287600.0"
      ]
     },
     "execution_count": 19,
     "metadata": {},
     "output_type": "execute_result"
    }
   ],
   "source": [
    "pd.DataFrame({'Bashorat':predicted_labels,'Asl_qiymat':test_labels})"
   ]
  },
  {
   "cell_type": "code",
   "execution_count": 20,
   "id": "b1b0e453",
   "metadata": {},
   "outputs": [],
   "source": [
    "# modelni baholash"
   ]
  },
  {
   "cell_type": "code",
   "execution_count": 21,
   "id": "9a6343f6",
   "metadata": {},
   "outputs": [
    {
     "data": {
      "text/html": [
       "<div>\n",
       "<style scoped>\n",
       "    .dataframe tbody tr th:only-of-type {\n",
       "        vertical-align: middle;\n",
       "    }\n",
       "\n",
       "    .dataframe tbody tr th {\n",
       "        vertical-align: top;\n",
       "    }\n",
       "\n",
       "    .dataframe thead th {\n",
       "        text-align: right;\n",
       "    }\n",
       "</style>\n",
       "<table border=\"1\" class=\"dataframe\">\n",
       "  <thead>\n",
       "    <tr style=\"text-align: right;\">\n",
       "      <th></th>\n",
       "      <th>longitude</th>\n",
       "      <th>latitude</th>\n",
       "      <th>housing_median_age</th>\n",
       "      <th>total_rooms</th>\n",
       "      <th>total_bedrooms</th>\n",
       "      <th>population</th>\n",
       "      <th>households</th>\n",
       "      <th>median_income</th>\n",
       "      <th>median_house_value</th>\n",
       "      <th>ocean_proximity</th>\n",
       "    </tr>\n",
       "  </thead>\n",
       "  <tbody>\n",
       "    <tr>\n",
       "      <th>20046</th>\n",
       "      <td>-119.01</td>\n",
       "      <td>36.06</td>\n",
       "      <td>25.0</td>\n",
       "      <td>1505.0</td>\n",
       "      <td>NaN</td>\n",
       "      <td>1392.0</td>\n",
       "      <td>359.0</td>\n",
       "      <td>1.6812</td>\n",
       "      <td>47700.0</td>\n",
       "      <td>INLAND</td>\n",
       "    </tr>\n",
       "    <tr>\n",
       "      <th>3024</th>\n",
       "      <td>-119.46</td>\n",
       "      <td>35.14</td>\n",
       "      <td>30.0</td>\n",
       "      <td>2943.0</td>\n",
       "      <td>NaN</td>\n",
       "      <td>1565.0</td>\n",
       "      <td>584.0</td>\n",
       "      <td>2.5313</td>\n",
       "      <td>45800.0</td>\n",
       "      <td>INLAND</td>\n",
       "    </tr>\n",
       "    <tr>\n",
       "      <th>15663</th>\n",
       "      <td>-122.44</td>\n",
       "      <td>37.80</td>\n",
       "      <td>52.0</td>\n",
       "      <td>3830.0</td>\n",
       "      <td>NaN</td>\n",
       "      <td>1310.0</td>\n",
       "      <td>963.0</td>\n",
       "      <td>3.4801</td>\n",
       "      <td>500001.0</td>\n",
       "      <td>NEAR BAY</td>\n",
       "    </tr>\n",
       "    <tr>\n",
       "      <th>20484</th>\n",
       "      <td>-118.72</td>\n",
       "      <td>34.28</td>\n",
       "      <td>17.0</td>\n",
       "      <td>3051.0</td>\n",
       "      <td>NaN</td>\n",
       "      <td>1705.0</td>\n",
       "      <td>495.0</td>\n",
       "      <td>5.7376</td>\n",
       "      <td>218600.0</td>\n",
       "      <td>&lt;1H OCEAN</td>\n",
       "    </tr>\n",
       "    <tr>\n",
       "      <th>9814</th>\n",
       "      <td>-121.93</td>\n",
       "      <td>36.62</td>\n",
       "      <td>34.0</td>\n",
       "      <td>2351.0</td>\n",
       "      <td>NaN</td>\n",
       "      <td>1063.0</td>\n",
       "      <td>428.0</td>\n",
       "      <td>3.7250</td>\n",
       "      <td>278000.0</td>\n",
       "      <td>NEAR OCEAN</td>\n",
       "    </tr>\n",
       "    <tr>\n",
       "      <th>...</th>\n",
       "      <td>...</td>\n",
       "      <td>...</td>\n",
       "      <td>...</td>\n",
       "      <td>...</td>\n",
       "      <td>...</td>\n",
       "      <td>...</td>\n",
       "      <td>...</td>\n",
       "      <td>...</td>\n",
       "      <td>...</td>\n",
       "      <td>...</td>\n",
       "    </tr>\n",
       "    <tr>\n",
       "      <th>15362</th>\n",
       "      <td>-117.22</td>\n",
       "      <td>33.36</td>\n",
       "      <td>16.0</td>\n",
       "      <td>3165.0</td>\n",
       "      <td>482.0</td>\n",
       "      <td>1351.0</td>\n",
       "      <td>452.0</td>\n",
       "      <td>4.6050</td>\n",
       "      <td>263300.0</td>\n",
       "      <td>&lt;1H OCEAN</td>\n",
       "    </tr>\n",
       "    <tr>\n",
       "      <th>16623</th>\n",
       "      <td>-120.83</td>\n",
       "      <td>35.36</td>\n",
       "      <td>28.0</td>\n",
       "      <td>4323.0</td>\n",
       "      <td>886.0</td>\n",
       "      <td>1650.0</td>\n",
       "      <td>705.0</td>\n",
       "      <td>2.7266</td>\n",
       "      <td>266800.0</td>\n",
       "      <td>NEAR OCEAN</td>\n",
       "    </tr>\n",
       "    <tr>\n",
       "      <th>18086</th>\n",
       "      <td>-122.05</td>\n",
       "      <td>37.31</td>\n",
       "      <td>25.0</td>\n",
       "      <td>4111.0</td>\n",
       "      <td>538.0</td>\n",
       "      <td>1585.0</td>\n",
       "      <td>568.0</td>\n",
       "      <td>9.2298</td>\n",
       "      <td>500001.0</td>\n",
       "      <td>&lt;1H OCEAN</td>\n",
       "    </tr>\n",
       "    <tr>\n",
       "      <th>2144</th>\n",
       "      <td>-119.76</td>\n",
       "      <td>36.77</td>\n",
       "      <td>36.0</td>\n",
       "      <td>2507.0</td>\n",
       "      <td>466.0</td>\n",
       "      <td>1227.0</td>\n",
       "      <td>474.0</td>\n",
       "      <td>2.7850</td>\n",
       "      <td>72300.0</td>\n",
       "      <td>INLAND</td>\n",
       "    </tr>\n",
       "    <tr>\n",
       "      <th>3665</th>\n",
       "      <td>-118.37</td>\n",
       "      <td>34.22</td>\n",
       "      <td>17.0</td>\n",
       "      <td>1787.0</td>\n",
       "      <td>463.0</td>\n",
       "      <td>1671.0</td>\n",
       "      <td>448.0</td>\n",
       "      <td>3.5521</td>\n",
       "      <td>151500.0</td>\n",
       "      <td>&lt;1H OCEAN</td>\n",
       "    </tr>\n",
       "  </tbody>\n",
       "</table>\n",
       "<p>4128 rows × 10 columns</p>\n",
       "</div>"
      ],
      "text/plain": [
       "       longitude  latitude  housing_median_age  total_rooms  total_bedrooms  \\\n",
       "20046    -119.01     36.06                25.0       1505.0             NaN   \n",
       "3024     -119.46     35.14                30.0       2943.0             NaN   \n",
       "15663    -122.44     37.80                52.0       3830.0             NaN   \n",
       "20484    -118.72     34.28                17.0       3051.0             NaN   \n",
       "9814     -121.93     36.62                34.0       2351.0             NaN   \n",
       "...          ...       ...                 ...          ...             ...   \n",
       "15362    -117.22     33.36                16.0       3165.0           482.0   \n",
       "16623    -120.83     35.36                28.0       4323.0           886.0   \n",
       "18086    -122.05     37.31                25.0       4111.0           538.0   \n",
       "2144     -119.76     36.77                36.0       2507.0           466.0   \n",
       "3665     -118.37     34.22                17.0       1787.0           463.0   \n",
       "\n",
       "       population  households  median_income  median_house_value  \\\n",
       "20046      1392.0       359.0         1.6812             47700.0   \n",
       "3024       1565.0       584.0         2.5313             45800.0   \n",
       "15663      1310.0       963.0         3.4801            500001.0   \n",
       "20484      1705.0       495.0         5.7376            218600.0   \n",
       "9814       1063.0       428.0         3.7250            278000.0   \n",
       "...           ...         ...            ...                 ...   \n",
       "15362      1351.0       452.0         4.6050            263300.0   \n",
       "16623      1650.0       705.0         2.7266            266800.0   \n",
       "18086      1585.0       568.0         9.2298            500001.0   \n",
       "2144       1227.0       474.0         2.7850             72300.0   \n",
       "3665       1671.0       448.0         3.5521            151500.0   \n",
       "\n",
       "      ocean_proximity  \n",
       "20046          INLAND  \n",
       "3024           INLAND  \n",
       "15663        NEAR BAY  \n",
       "20484       <1H OCEAN  \n",
       "9814       NEAR OCEAN  \n",
       "...               ...  \n",
       "15362       <1H OCEAN  \n",
       "16623      NEAR OCEAN  \n",
       "18086       <1H OCEAN  \n",
       "2144           INLAND  \n",
       "3665        <1H OCEAN  \n",
       "\n",
       "[4128 rows x 10 columns]"
      ]
     },
     "execution_count": 21,
     "metadata": {},
     "output_type": "execute_result"
    }
   ],
   "source": [
    "test_set"
   ]
  },
  {
   "cell_type": "code",
   "execution_count": 23,
   "id": "5cdea844",
   "metadata": {},
   "outputs": [
    {
     "data": {
      "text/html": [
       "<div>\n",
       "<style scoped>\n",
       "    .dataframe tbody tr th:only-of-type {\n",
       "        vertical-align: middle;\n",
       "    }\n",
       "\n",
       "    .dataframe tbody tr th {\n",
       "        vertical-align: top;\n",
       "    }\n",
       "\n",
       "    .dataframe thead th {\n",
       "        text-align: right;\n",
       "    }\n",
       "</style>\n",
       "<table border=\"1\" class=\"dataframe\">\n",
       "  <thead>\n",
       "    <tr style=\"text-align: right;\">\n",
       "      <th></th>\n",
       "      <th>longitude</th>\n",
       "      <th>latitude</th>\n",
       "      <th>housing_median_age</th>\n",
       "      <th>total_rooms</th>\n",
       "      <th>total_bedrooms</th>\n",
       "      <th>population</th>\n",
       "      <th>households</th>\n",
       "      <th>median_income</th>\n",
       "      <th>ocean_proximity</th>\n",
       "    </tr>\n",
       "  </thead>\n",
       "  <tbody>\n",
       "    <tr>\n",
       "      <th>20046</th>\n",
       "      <td>-119.01</td>\n",
       "      <td>36.06</td>\n",
       "      <td>25.0</td>\n",
       "      <td>1505.0</td>\n",
       "      <td>NaN</td>\n",
       "      <td>1392.0</td>\n",
       "      <td>359.0</td>\n",
       "      <td>1.6812</td>\n",
       "      <td>INLAND</td>\n",
       "    </tr>\n",
       "    <tr>\n",
       "      <th>3024</th>\n",
       "      <td>-119.46</td>\n",
       "      <td>35.14</td>\n",
       "      <td>30.0</td>\n",
       "      <td>2943.0</td>\n",
       "      <td>NaN</td>\n",
       "      <td>1565.0</td>\n",
       "      <td>584.0</td>\n",
       "      <td>2.5313</td>\n",
       "      <td>INLAND</td>\n",
       "    </tr>\n",
       "    <tr>\n",
       "      <th>15663</th>\n",
       "      <td>-122.44</td>\n",
       "      <td>37.80</td>\n",
       "      <td>52.0</td>\n",
       "      <td>3830.0</td>\n",
       "      <td>NaN</td>\n",
       "      <td>1310.0</td>\n",
       "      <td>963.0</td>\n",
       "      <td>3.4801</td>\n",
       "      <td>NEAR BAY</td>\n",
       "    </tr>\n",
       "    <tr>\n",
       "      <th>20484</th>\n",
       "      <td>-118.72</td>\n",
       "      <td>34.28</td>\n",
       "      <td>17.0</td>\n",
       "      <td>3051.0</td>\n",
       "      <td>NaN</td>\n",
       "      <td>1705.0</td>\n",
       "      <td>495.0</td>\n",
       "      <td>5.7376</td>\n",
       "      <td>&lt;1H OCEAN</td>\n",
       "    </tr>\n",
       "    <tr>\n",
       "      <th>9814</th>\n",
       "      <td>-121.93</td>\n",
       "      <td>36.62</td>\n",
       "      <td>34.0</td>\n",
       "      <td>2351.0</td>\n",
       "      <td>NaN</td>\n",
       "      <td>1063.0</td>\n",
       "      <td>428.0</td>\n",
       "      <td>3.7250</td>\n",
       "      <td>NEAR OCEAN</td>\n",
       "    </tr>\n",
       "    <tr>\n",
       "      <th>...</th>\n",
       "      <td>...</td>\n",
       "      <td>...</td>\n",
       "      <td>...</td>\n",
       "      <td>...</td>\n",
       "      <td>...</td>\n",
       "      <td>...</td>\n",
       "      <td>...</td>\n",
       "      <td>...</td>\n",
       "      <td>...</td>\n",
       "    </tr>\n",
       "    <tr>\n",
       "      <th>15362</th>\n",
       "      <td>-117.22</td>\n",
       "      <td>33.36</td>\n",
       "      <td>16.0</td>\n",
       "      <td>3165.0</td>\n",
       "      <td>482.0</td>\n",
       "      <td>1351.0</td>\n",
       "      <td>452.0</td>\n",
       "      <td>4.6050</td>\n",
       "      <td>&lt;1H OCEAN</td>\n",
       "    </tr>\n",
       "    <tr>\n",
       "      <th>16623</th>\n",
       "      <td>-120.83</td>\n",
       "      <td>35.36</td>\n",
       "      <td>28.0</td>\n",
       "      <td>4323.0</td>\n",
       "      <td>886.0</td>\n",
       "      <td>1650.0</td>\n",
       "      <td>705.0</td>\n",
       "      <td>2.7266</td>\n",
       "      <td>NEAR OCEAN</td>\n",
       "    </tr>\n",
       "    <tr>\n",
       "      <th>18086</th>\n",
       "      <td>-122.05</td>\n",
       "      <td>37.31</td>\n",
       "      <td>25.0</td>\n",
       "      <td>4111.0</td>\n",
       "      <td>538.0</td>\n",
       "      <td>1585.0</td>\n",
       "      <td>568.0</td>\n",
       "      <td>9.2298</td>\n",
       "      <td>&lt;1H OCEAN</td>\n",
       "    </tr>\n",
       "    <tr>\n",
       "      <th>2144</th>\n",
       "      <td>-119.76</td>\n",
       "      <td>36.77</td>\n",
       "      <td>36.0</td>\n",
       "      <td>2507.0</td>\n",
       "      <td>466.0</td>\n",
       "      <td>1227.0</td>\n",
       "      <td>474.0</td>\n",
       "      <td>2.7850</td>\n",
       "      <td>INLAND</td>\n",
       "    </tr>\n",
       "    <tr>\n",
       "      <th>3665</th>\n",
       "      <td>-118.37</td>\n",
       "      <td>34.22</td>\n",
       "      <td>17.0</td>\n",
       "      <td>1787.0</td>\n",
       "      <td>463.0</td>\n",
       "      <td>1671.0</td>\n",
       "      <td>448.0</td>\n",
       "      <td>3.5521</td>\n",
       "      <td>&lt;1H OCEAN</td>\n",
       "    </tr>\n",
       "  </tbody>\n",
       "</table>\n",
       "<p>4128 rows × 9 columns</p>\n",
       "</div>"
      ],
      "text/plain": [
       "       longitude  latitude  housing_median_age  total_rooms  total_bedrooms  \\\n",
       "20046    -119.01     36.06                25.0       1505.0             NaN   \n",
       "3024     -119.46     35.14                30.0       2943.0             NaN   \n",
       "15663    -122.44     37.80                52.0       3830.0             NaN   \n",
       "20484    -118.72     34.28                17.0       3051.0             NaN   \n",
       "9814     -121.93     36.62                34.0       2351.0             NaN   \n",
       "...          ...       ...                 ...          ...             ...   \n",
       "15362    -117.22     33.36                16.0       3165.0           482.0   \n",
       "16623    -120.83     35.36                28.0       4323.0           886.0   \n",
       "18086    -122.05     37.31                25.0       4111.0           538.0   \n",
       "2144     -119.76     36.77                36.0       2507.0           466.0   \n",
       "3665     -118.37     34.22                17.0       1787.0           463.0   \n",
       "\n",
       "       population  households  median_income ocean_proximity  \n",
       "20046      1392.0       359.0         1.6812          INLAND  \n",
       "3024       1565.0       584.0         2.5313          INLAND  \n",
       "15663      1310.0       963.0         3.4801        NEAR BAY  \n",
       "20484      1705.0       495.0         5.7376       <1H OCEAN  \n",
       "9814       1063.0       428.0         3.7250      NEAR OCEAN  \n",
       "...           ...         ...            ...             ...  \n",
       "15362      1351.0       452.0         4.6050       <1H OCEAN  \n",
       "16623      1650.0       705.0         2.7266      NEAR OCEAN  \n",
       "18086      1585.0       568.0         9.2298       <1H OCEAN  \n",
       "2144       1227.0       474.0         2.7850          INLAND  \n",
       "3665       1671.0       448.0         3.5521       <1H OCEAN  \n",
       "\n",
       "[4128 rows x 9 columns]"
      ]
     },
     "execution_count": 23,
     "metadata": {},
     "output_type": "execute_result"
    }
   ],
   "source": [
    "x_test = test_set.drop('median_house_value',axis=1)\n",
    "x_test"
   ]
  },
  {
   "cell_type": "code",
   "execution_count": 24,
   "id": "10fcb4c3",
   "metadata": {},
   "outputs": [
    {
     "data": {
      "text/plain": [
       "20046     47700.0\n",
       "3024      45800.0\n",
       "15663    500001.0\n",
       "20484    218600.0\n",
       "9814     278000.0\n",
       "           ...   \n",
       "15362    263300.0\n",
       "16623    266800.0\n",
       "18086    500001.0\n",
       "2144      72300.0\n",
       "3665     151500.0\n",
       "Name: median_house_value, Length: 4128, dtype: float64"
      ]
     },
     "execution_count": 24,
     "metadata": {},
     "output_type": "execute_result"
    }
   ],
   "source": [
    "y_test = test_set['median_house_value'].copy()\n",
    "y_test"
   ]
  },
  {
   "cell_type": "code",
   "execution_count": 25,
   "id": "cc3e5042",
   "metadata": {},
   "outputs": [],
   "source": [
    "# 1-orinda pipelinedan otkizishimiz kk"
   ]
  },
  {
   "cell_type": "code",
   "execution_count": 26,
   "id": "d1601220",
   "metadata": {},
   "outputs": [],
   "source": [
    "x_test_prepared = full_pipeline.transform(x_test)"
   ]
  },
  {
   "cell_type": "code",
   "execution_count": 27,
   "id": "541cf574",
   "metadata": {},
   "outputs": [
    {
     "data": {
      "text/plain": [
       "array([ 61874.25460143, 121853.52511139, 267770.94368091, ...,\n",
       "       447837.04647878, 117275.9214608 , 185597.46125194])"
      ]
     },
     "execution_count": 27,
     "metadata": {},
     "output_type": "execute_result"
    }
   ],
   "source": [
    "y_predicted = lr_model.predict(x_test_prepared)\n",
    "y_predicted"
   ]
  },
  {
   "cell_type": "code",
   "execution_count": 28,
   "id": "bcc46456",
   "metadata": {},
   "outputs": [],
   "source": [
    "# model bajolash mezonlaridan foydalanamiz"
   ]
  },
  {
   "cell_type": "code",
   "execution_count": 29,
   "id": "a07910f8",
   "metadata": {},
   "outputs": [
    {
     "name": "stdout",
     "output_type": "stream",
     "text": [
      "MAE = 50898.73953494079\n"
     ]
    }
   ],
   "source": [
    "from sklearn.metrics import mean_absolute_error\n",
    "\n",
    "mae = mean_absolute_error(y_test, y_predicted)\n",
    "\n",
    "print('MAE =', mae)"
   ]
  },
  {
   "cell_type": "code",
   "execution_count": 31,
   "id": "ddd5c539",
   "metadata": {},
   "outputs": [
    {
     "name": "stdout",
     "output_type": "stream",
     "text": [
      "RMSE = 72701.32600762135\n"
     ]
    }
   ],
   "source": [
    "from sklearn.metrics import mean_squared_error\n",
    "\n",
    "rmse = mean_squared_error(y_test, y_predicted)\n",
    "\n",
    "print('RMSE =',np.sqrt(rmse))"
   ]
  },
  {
   "cell_type": "code",
   "execution_count": 32,
   "id": "6918a2b7",
   "metadata": {},
   "outputs": [],
   "source": [
    "# RandomForest"
   ]
  },
  {
   "cell_type": "code",
   "execution_count": 33,
   "id": "300bdebc",
   "metadata": {},
   "outputs": [
    {
     "data": {
      "text/plain": [
       "RandomForestRegressor()"
      ]
     },
     "execution_count": 33,
     "metadata": {},
     "output_type": "execute_result"
    }
   ],
   "source": [
    "from sklearn.ensemble import RandomForestRegressor\n",
    "\n",
    "rf_model = RandomForestRegressor()\n",
    "\n",
    "rf_model.fit(x_prepared, y)"
   ]
  },
  {
   "cell_type": "code",
   "execution_count": 34,
   "id": "55ab80cf",
   "metadata": {},
   "outputs": [],
   "source": [
    "y_predicted = rf_model.predict(x_test_prepared)"
   ]
  },
  {
   "cell_type": "code",
   "execution_count": 35,
   "id": "e54239b1",
   "metadata": {},
   "outputs": [
    {
     "name": "stdout",
     "output_type": "stream",
     "text": [
      "rmse =  50266.14227945418\n"
     ]
    }
   ],
   "source": [
    "from sklearn.metrics import mean_squared_error\n",
    "\n",
    "mse = mean_squared_error(y_test, y_predicted)\n",
    "\n",
    "print('rmse = ',np.sqrt(mse))"
   ]
  },
  {
   "cell_type": "code",
   "execution_count": 36,
   "id": "79d0f2e6",
   "metadata": {},
   "outputs": [],
   "source": [
    "# cross validation"
   ]
  },
  {
   "cell_type": "code",
   "execution_count": 40,
   "id": "88933712",
   "metadata": {},
   "outputs": [],
   "source": [
    "x = df.drop('median_house_value',axis=1)\n",
    "y = df['median_house_value'].copy()\n",
    "\n",
    "x_prepared = full_pipeline.transform(x)"
   ]
  },
  {
   "cell_type": "code",
   "execution_count": 45,
   "id": "9ac5bdea",
   "metadata": {},
   "outputs": [
    {
     "data": {
      "text/plain": [
       "array([-5.38681502e+09, -5.59717065e+09, -5.68997624e+09, -5.86890635e+09,\n",
       "       -4.38197413e+09])"
      ]
     },
     "execution_count": 45,
     "metadata": {},
     "output_type": "execute_result"
    }
   ],
   "source": [
    "from sklearn.model_selection import cross_val_score\n",
    "\n",
    "mse_scores = cross_val_score(lr_model, x_prepared, y, scoring='neg_mean_squared_error', cv=5)\n",
    "mse_scores"
   ]
  },
  {
   "cell_type": "code",
   "execution_count": 58,
   "id": "9280db71",
   "metadata": {},
   "outputs": [],
   "source": [
    "def display_scores(scores):\n",
    "    print(\"Scores :\", scores)\n",
    "    print('mean :',scores.mean())\n",
    "    print('Std.dev:', scores.std())"
   ]
  },
  {
   "cell_type": "code",
   "execution_count": 59,
   "id": "c05f9b28",
   "metadata": {},
   "outputs": [
    {
     "name": "stdout",
     "output_type": "stream",
     "text": [
      "Scores : [73394.92502922 74814.24096819 75431.93119241 76608.78768825\n",
      " 66196.48128669]\n",
      "mean : 73289.27323295095\n",
      "Std.dev: 3694.7136787223762\n"
     ]
    }
   ],
   "source": [
    "display_scores(np.sqrt(-mse_scores))"
   ]
  },
  {
   "cell_type": "code",
   "execution_count": 60,
   "id": "64a2a969",
   "metadata": {},
   "outputs": [
    {
     "name": "stdout",
     "output_type": "stream",
     "text": [
      "Scores : [96045.81102524 47567.53372123 64942.93793972 56921.96156666\n",
      " 61155.54389331 60404.11130239 46835.75624935 79004.2725837\n",
      " 74417.55817938 49175.46811949]\n",
      "mean : 63647.0954580476\n",
      "Std.dev: 14885.41354949942\n"
     ]
    }
   ],
   "source": [
    "scores = cross_val_score(rf_model, x_prepared, y, scoring='neg_mean_squared_error', cv=10)\n",
    "\n",
    "lr_rmse_scores = np.sqrt(-scores)\n",
    "\n",
    "display_scores(lr_rmse_scores)"
   ]
  },
  {
   "cell_type": "code",
   "execution_count": 62,
   "id": "8f330abd",
   "metadata": {},
   "outputs": [],
   "source": [
    "# joblib"
   ]
  },
  {
   "cell_type": "code",
   "execution_count": 64,
   "id": "e5ef0998",
   "metadata": {},
   "outputs": [
    {
     "data": {
      "text/plain": [
       "['lr_model.jbl']"
      ]
     },
     "execution_count": 64,
     "metadata": {},
     "output_type": "execute_result"
    }
   ],
   "source": [
    "import joblib\n",
    "\n",
    "filename = 'lr_model.jbl' # istalgan nom bersa boladi faylga\n",
    "joblib.dump(lr_model, filename)"
   ]
  },
  {
   "cell_type": "code",
   "execution_count": 65,
   "id": "86ea1360",
   "metadata": {},
   "outputs": [],
   "source": [
    "# faylni chaqirish "
   ]
  },
  {
   "cell_type": "code",
   "execution_count": 66,
   "id": "88ca7176",
   "metadata": {},
   "outputs": [],
   "source": [
    "model = joblib.load(filename)"
   ]
  },
  {
   "cell_type": "code",
   "execution_count": 67,
   "id": "72698cff",
   "metadata": {},
   "outputs": [
    {
     "name": "stdout",
     "output_type": "stream",
     "text": [
      "Scores : [73394.92502922 74814.24096819 75431.93119241 76608.78768825\n",
      " 66196.48128669]\n",
      "mean : 73289.27323295095\n",
      "Std.dev: 3694.7136787223762\n"
     ]
    }
   ],
   "source": [
    "scores = cross_val_score(model, x_prepared, y, scoring='neg_mean_squared_error', cv=5)\n",
    "\n",
    "lr_rmse_scores = np.sqrt(-scores)\n",
    "\n",
    "display_scores(lr_rmse_scores)"
   ]
  },
  {
   "cell_type": "code",
   "execution_count": null,
   "id": "75f26ddd",
   "metadata": {},
   "outputs": [],
   "source": []
  }
 ],
 "metadata": {
  "kernelspec": {
   "display_name": "Python 3 (ipykernel)",
   "language": "python",
   "name": "python3"
  },
  "language_info": {
   "codemirror_mode": {
    "name": "ipython",
    "version": 3
   },
   "file_extension": ".py",
   "mimetype": "text/x-python",
   "name": "python",
   "nbconvert_exporter": "python",
   "pygments_lexer": "ipython3",
   "version": "3.9.7"
  }
 },
 "nbformat": 4,
 "nbformat_minor": 5
}
