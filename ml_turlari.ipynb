{
 "cells": [
  {
   "cell_type": "code",
   "execution_count": null,
   "id": "7c76f56d",
   "metadata": {},
   "outputs": [],
   "source": []
  },
  {
   "cell_type": "code",
   "execution_count": null,
   "id": "5ae2e09b",
   "metadata": {},
   "outputs": [],
   "source": [
    "   ml turlari\n",
    "\n",
    "1-> supervised  >>> \n",
    "2) unsupervised  >>>\n",
    "3) reinforcement learning >>>"
   ]
  },
  {
   "cell_type": "code",
   "execution_count": null,
   "id": "32e30da7",
   "metadata": {},
   "outputs": [],
   "source": [
    "Mashinasini o'rganish (Machine Learning, ML) - bu boshqaruv usullari, ma'lumotlar analitiki,\n",
    "statistika va hisoblash tekhnologiyalarining jamlanmasi, u yordamida kompyuterlar va dasturiy ta'minot \n",
    "o'z-o'zidan ta'lim olishga, ayniqsa, odatdagidan farqli holatlarda ma'lumotlarni analiz qilishga \n",
    "va foydalanuvchilarga kerakli ma'lumotlarni taqdim etishga qodir bo'ladi.\n",
    "\n",
    "Mashinasini o'rganishning asosiy turlari:\n",
    "\n",
    "1) Nazoratlangan o'rganish (Supervised Learning): Ushbu turi ma'lumotlar to'plamini o'rganishni talab qiladi, \n",
    "shu yerda har bir misol uchun kirish va chiqishlar berilgan. Nazoratlangan mashina o'rganishida, \n",
    "model o'qitiladi va kirish ma'lumotlarini chiqish ma'lumotlariga taqqoslash uchun ishlatiladi.\n",
    "Bu turi tasdiqlash, kredit riskini baholash yoki e-pochta spamini aniqlash kabi muammolarni hal etish uchun\n",
    "ishlatiladi.\n",
    "\n",
    "2) Nazoratsiz o'rganish (Unsupervised Learning): Ushbu turi, chiqish ma'lumotlari berilmagan holatda kirish \n",
    "ma'lumotlari to'plamini o'rganadi. Model ma'lumotlar orasidagi munosabatlarni topishga harakat qiladi, \n",
    "masalan, klasterizatsiya yordamida ma'lumotlarni o'xshash guruhlar bo'limiga qiladi \n",
    "yoki bir nechta o'lchovlarda ko'proq ma'lumotlarni kamroq o'lchovlarga kamaytirish.\n",
    "Bu turi ma'lumotlarni vizualizatsiya qilish, genetik markazlarni topish yoki ma'lumotlar \n",
    "to'plamini guruhlash kabi muammolarni hal etish uchun ishlatiladi.\n",
    "\n",
    "3) Mukofot asosida o'rganish (Reinforcement Learning): Bu turi operatsiya qilish va uning natijasiga ko'ra mukofot\n",
    "yoki jarima berish tizimiga asoslangan. Model, muhit bilan o'zaro ta'sir o'tkazish orqali va mukofotlar asosida \n",
    "o'rganadi, shunday qilib, u o'z ta'sirini maksimal mukofotni ta'minlash yo'li bilan optimallashtiradi.\n",
    "Bu turi o'yinlarni o'rganish, avtonom transport vositalarini boshqarish yoki kompyuter sistemalarini \n",
    "optimallashtirish kabi muammolarni hal etish uchun ishlatiladi."
   ]
  },
  {
   "cell_type": "code",
   "execution_count": null,
   "id": "133bb932",
   "metadata": {},
   "outputs": [],
   "source": [
    "    <<<muommolar turlari>>>\n",
    "\n",
    "1) klassifakisiya >>> uyni narxi klaslash yani max,mean,min price soralsa\n",
    "2) regressia >>> son korinishida soralganda\n",
    "3) klasterlash >>> "
   ]
  },
  {
   "cell_type": "code",
   "execution_count": null,
   "id": "4291fe46",
   "metadata": {},
   "outputs": [],
   "source": []
  },
  {
   "cell_type": "code",
   "execution_count": null,
   "id": "d930ba6c",
   "metadata": {},
   "outputs": [],
   "source": [
    "    <<< usul >>>\n",
    "    \n",
    "1) offline\n",
    "2) online"
   ]
  },
  {
   "cell_type": "code",
   "execution_count": null,
   "id": "c4aec82c",
   "metadata": {},
   "outputs": [],
   "source": [
    "<<<< analitik yondashuvni aniqlash >>>>\n",
    "\n",
    "MAE-- MEAN ABSOLUTE ERROR ( O'rtacha absolyut xatolik )\n",
    "\n",
    "RMSE -- ROOT MEA SQUEARE ERROR (O'rtacha kvadrat xatolik )\n",
    "                                \n",
    "                                "
   ]
  },
  {
   "cell_type": "code",
   "execution_count": null,
   "id": "ecece797",
   "metadata": {},
   "outputs": [],
   "source": []
  }
 ],
 "metadata": {
  "kernelspec": {
   "display_name": "Python 3 (ipykernel)",
   "language": "python",
   "name": "python3"
  },
  "language_info": {
   "codemirror_mode": {
    "name": "ipython",
    "version": 3
   },
   "file_extension": ".py",
   "mimetype": "text/x-python",
   "name": "python",
   "nbconvert_exporter": "python",
   "pygments_lexer": "ipython3",
   "version": "3.9.7"
  }
 },
 "nbformat": 4,
 "nbformat_minor": 5
}
