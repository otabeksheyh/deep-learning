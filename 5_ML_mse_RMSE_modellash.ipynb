{
 "cells": [
  {
   "cell_type": "code",
   "execution_count": 1,
   "id": "d3b4e677",
   "metadata": {},
   "outputs": [],
   "source": [
    "import pandas as pd\n",
    "import numpy as np\n",
    "import sklearn"
   ]
  },
  {
   "cell_type": "code",
   "execution_count": 2,
   "id": "d35a1e0b",
   "metadata": {},
   "outputs": [],
   "source": [
    "url = \"https://github.com/ageron/handson-ml2/blob/master/datasets/housing/housing.csv?raw=true\"\n",
    "df = pd.read_csv(url)o"
   ]
  },
  {
   "cell_type": "code",
   "execution_count": 5,
   "id": "0153a84f",
   "metadata": {},
   "outputs": [],
   "source": [
    "from sklearn.model_selection import train_test_split\n",
    "train_set, test_set = train_test_split(df, test_size=0.2, random_state=42)\n",
    "\n",
    "x_train = train_set.drop('median_house_value', axis=1)\n",
    "y = train_set['median_house_value'].copy()\n",
    "\n",
    "x_num = x_train.drop('ocean_proximity', axis=1)"
   ]
  },
  {
   "cell_type": "code",
   "execution_count": 6,
   "id": "3c7af88c",
   "metadata": {},
   "outputs": [],
   "source": [
    "# Pipeline quramiz"
   ]
  },
  {
   "cell_type": "code",
   "execution_count": 7,
   "id": "e5c23b65",
   "metadata": {},
   "outputs": [],
   "source": [
    "from sklearn.base import BaseEstimator, TransformerMixin\n",
    "\n",
    "#bizga kerakli ustunlar\n",
    "rooms_ix, bedrooms_ix, population_ix,households_ix = 3,4,5,6\n",
    "\n",
    "class CombinedAttributesAdder(BaseEstimator, TransformerMixin):\n",
    "    def __init__(self, add_bedrooms_per_room = True):\n",
    "        self.add_bedrooms_per_room = add_bedrooms_per_room\n",
    "    def fit(self,x, y=None):\n",
    "        return self # bu funksiya faqat transformer. estimator emas\n",
    "    def transform(self,x):\n",
    "        rooms_per_household = x[:, rooms_ix]/x[:,households_ix]\n",
    "        population_per_household = x[:,population_ix]/x[:,households_ix]\n",
    "        if self.add_bedrooms_per_room: # bu ixtiyoriy ustun boladi\n",
    "            bedrooms_per_room = x[:, bedrooms_ix]/x[:, rooms_ix]\n",
    "            return np.c_[x, rooms_per_household,  population_per_household, bedrooms_per_room]\n",
    "        else:\n",
    "            return np.c_[x, rooms_per_household,  population_per_household]"
   ]
  },
  {
   "cell_type": "code",
   "execution_count": 8,
   "id": "3eccb15a",
   "metadata": {},
   "outputs": [],
   "source": [
    "# sonli ustunlar uchun"
   ]
  },
  {
   "cell_type": "code",
   "execution_count": 9,
   "id": "f9ca776d",
   "metadata": {},
   "outputs": [],
   "source": [
    "from sklearn.pipeline import Pipeline\n",
    "from sklearn.impute import SimpleImputer\n",
    "from sklearn.preprocessing import OneHotEncoder, StandardScaler\n",
    "\n",
    "num_pipeline = Pipeline([\n",
    "    ('imputer', SimpleImputer(strategy='median')),\n",
    "    ('attribs_adder', CombinedAttributesAdder()),\n",
    "    ('std_scaler', StandardScaler())\n",
    "])"
   ]
  },
  {
   "cell_type": "code",
   "execution_count": 10,
   "id": "793b6467",
   "metadata": {},
   "outputs": [],
   "source": [
    "# matnli ustunlar uchun"
   ]
  },
  {
   "cell_type": "code",
   "execution_count": 13,
   "id": "d9e860e8",
   "metadata": {},
   "outputs": [],
   "source": [
    "from sklearn.compose import ColumnTransformer\n",
    "\n",
    "num_attribs = list(x_num) # matnli ustunlar nomini sugurib oldik\n",
    "cat_attribs = ['ocean_proximity']\n",
    "\n",
    "full_pipeline = ColumnTransformer([\n",
    "    \n",
    "    ('num',num_pipeline, num_attribs),\n",
    "    ('cat', OneHotEncoder(), cat_attribs)\n",
    "])"
   ]
  },
  {
   "cell_type": "code",
   "execution_count": 14,
   "id": "891496a7",
   "metadata": {},
   "outputs": [],
   "source": [
    "x_prepared = full_pipeline.fit_transform(x_train)"
   ]
  },
  {
   "cell_type": "code",
   "execution_count": 16,
   "id": "55f6cd33",
   "metadata": {},
   "outputs": [
    {
     "data": {
      "text/plain": [
       "array([[ 1.27258656, -1.3728112 ,  0.34849025,  0.22256942,  0.21122752,\n",
       "         0.76827628,  0.32290591, -0.326196  , -0.17491646,  0.05137609,\n",
       "        -0.2117846 ,  0.        ,  0.        ,  0.        ,  0.        ,\n",
       "         1.        ],\n",
       "       [ 0.70916212, -0.87669601,  1.61811813,  0.34029326,  0.59309419,\n",
       "        -0.09890135,  0.6720272 , -0.03584338, -0.40283542, -0.11736222,\n",
       "         0.34218528,  0.        ,  0.        ,  0.        ,  0.        ,\n",
       "         1.        ],\n",
       "       [-0.44760309, -0.46014647, -1.95271028, -0.34259695, -0.49522582,\n",
       "        -0.44981806, -0.43046109,  0.14470145,  0.08821601, -0.03227969,\n",
       "        -0.66165785,  0.        ,  0.        ,  0.        ,  0.        ,\n",
       "         1.        ],\n",
       "       [ 1.23269811, -1.38217186,  0.58654547, -0.56148971, -0.40930582,\n",
       "        -0.00743434, -0.38058662, -1.01786438, -0.60001532,  0.07750687,\n",
       "         0.78303162,  0.        ,  0.        ,  0.        ,  0.        ,\n",
       "         1.        ],\n",
       "       [-0.10855122,  0.5320839 ,  1.14200767, -0.11956547, -0.25655915,\n",
       "        -0.48587717, -0.31496232, -0.17148831,  0.3490073 , -0.06883176,\n",
       "        -0.55036364,  0.        ,  1.        ,  0.        ,  0.        ,\n",
       "         0.        ]])"
      ]
     },
     "execution_count": 16,
     "metadata": {},
     "output_type": "execute_result"
    }
   ],
   "source": [
    "x_prepared[:5]"
   ]
  },
  {
   "cell_type": "code",
   "execution_count": 17,
   "id": "6197f809",
   "metadata": {},
   "outputs": [],
   "source": [
    "### LINEAR REGRESSION"
   ]
  },
  {
   "cell_type": "code",
   "execution_count": 18,
   "id": "98207703",
   "metadata": {},
   "outputs": [],
   "source": [
    "from sklearn.linear_model import LinearRegression\n",
    "\n",
    "lr_model = LinearRegression()"
   ]
  },
  {
   "cell_type": "code",
   "execution_count": 19,
   "id": "647d415a",
   "metadata": {},
   "outputs": [
    {
     "data": {
      "text/plain": [
       "LinearRegression()"
      ]
     },
     "execution_count": 19,
     "metadata": {},
     "output_type": "execute_result"
    }
   ],
   "source": [
    "lr_model.fit(x_prepared, y)"
   ]
  },
  {
   "cell_type": "code",
   "execution_count": 21,
   "id": "9c367796",
   "metadata": {},
   "outputs": [
    {
     "data": {
      "text/html": [
       "<div>\n",
       "<style scoped>\n",
       "    .dataframe tbody tr th:only-of-type {\n",
       "        vertical-align: middle;\n",
       "    }\n",
       "\n",
       "    .dataframe tbody tr th {\n",
       "        vertical-align: top;\n",
       "    }\n",
       "\n",
       "    .dataframe thead th {\n",
       "        text-align: right;\n",
       "    }\n",
       "</style>\n",
       "<table border=\"1\" class=\"dataframe\">\n",
       "  <thead>\n",
       "    <tr style=\"text-align: right;\">\n",
       "      <th></th>\n",
       "      <th>longitude</th>\n",
       "      <th>latitude</th>\n",
       "      <th>housing_median_age</th>\n",
       "      <th>total_rooms</th>\n",
       "      <th>total_bedrooms</th>\n",
       "      <th>population</th>\n",
       "      <th>households</th>\n",
       "      <th>median_income</th>\n",
       "      <th>ocean_proximity</th>\n",
       "    </tr>\n",
       "  </thead>\n",
       "  <tbody>\n",
       "    <tr>\n",
       "      <th>4780</th>\n",
       "      <td>-118.32</td>\n",
       "      <td>34.04</td>\n",
       "      <td>42.0</td>\n",
       "      <td>1766.0</td>\n",
       "      <td>404.0</td>\n",
       "      <td>1117.0</td>\n",
       "      <td>367.0</td>\n",
       "      <td>2.0259</td>\n",
       "      <td>&lt;1H OCEAN</td>\n",
       "    </tr>\n",
       "    <tr>\n",
       "      <th>10669</th>\n",
       "      <td>-117.86</td>\n",
       "      <td>33.62</td>\n",
       "      <td>23.0</td>\n",
       "      <td>3166.0</td>\n",
       "      <td>411.0</td>\n",
       "      <td>1092.0</td>\n",
       "      <td>345.0</td>\n",
       "      <td>7.9367</td>\n",
       "      <td>&lt;1H OCEAN</td>\n",
       "    </tr>\n",
       "    <tr>\n",
       "      <th>2504</th>\n",
       "      <td>-120.45</td>\n",
       "      <td>36.86</td>\n",
       "      <td>34.0</td>\n",
       "      <td>673.0</td>\n",
       "      <td>173.0</td>\n",
       "      <td>539.0</td>\n",
       "      <td>182.0</td>\n",
       "      <td>2.3523</td>\n",
       "      <td>INLAND</td>\n",
       "    </tr>\n",
       "    <tr>\n",
       "      <th>3456</th>\n",
       "      <td>-118.42</td>\n",
       "      <td>34.32</td>\n",
       "      <td>30.0</td>\n",
       "      <td>3027.0</td>\n",
       "      <td>604.0</td>\n",
       "      <td>1970.0</td>\n",
       "      <td>590.0</td>\n",
       "      <td>4.3409</td>\n",
       "      <td>&lt;1H OCEAN</td>\n",
       "    </tr>\n",
       "    <tr>\n",
       "      <th>9762</th>\n",
       "      <td>-121.73</td>\n",
       "      <td>36.50</td>\n",
       "      <td>27.0</td>\n",
       "      <td>3184.0</td>\n",
       "      <td>520.0</td>\n",
       "      <td>1121.0</td>\n",
       "      <td>493.0</td>\n",
       "      <td>5.6383</td>\n",
       "      <td>&lt;1H OCEAN</td>\n",
       "    </tr>\n",
       "    <tr>\n",
       "      <th>7096</th>\n",
       "      <td>-118.00</td>\n",
       "      <td>33.93</td>\n",
       "      <td>24.0</td>\n",
       "      <td>4534.0</td>\n",
       "      <td>967.0</td>\n",
       "      <td>2547.0</td>\n",
       "      <td>895.0</td>\n",
       "      <td>3.9575</td>\n",
       "      <td>&lt;1H OCEAN</td>\n",
       "    </tr>\n",
       "    <tr>\n",
       "      <th>162</th>\n",
       "      <td>-122.24</td>\n",
       "      <td>37.81</td>\n",
       "      <td>52.0</td>\n",
       "      <td>2513.0</td>\n",
       "      <td>502.0</td>\n",
       "      <td>1048.0</td>\n",
       "      <td>518.0</td>\n",
       "      <td>3.6750</td>\n",
       "      <td>NEAR BAY</td>\n",
       "    </tr>\n",
       "    <tr>\n",
       "      <th>11988</th>\n",
       "      <td>-117.51</td>\n",
       "      <td>34.00</td>\n",
       "      <td>36.0</td>\n",
       "      <td>3791.0</td>\n",
       "      <td>746.0</td>\n",
       "      <td>2258.0</td>\n",
       "      <td>672.0</td>\n",
       "      <td>3.2067</td>\n",
       "      <td>INLAND</td>\n",
       "    </tr>\n",
       "    <tr>\n",
       "      <th>4654</th>\n",
       "      <td>-118.33</td>\n",
       "      <td>34.05</td>\n",
       "      <td>48.0</td>\n",
       "      <td>2405.0</td>\n",
       "      <td>527.0</td>\n",
       "      <td>1868.0</td>\n",
       "      <td>502.0</td>\n",
       "      <td>3.3750</td>\n",
       "      <td>&lt;1H OCEAN</td>\n",
       "    </tr>\n",
       "    <tr>\n",
       "      <th>570</th>\n",
       "      <td>-122.24</td>\n",
       "      <td>37.72</td>\n",
       "      <td>5.0</td>\n",
       "      <td>18634.0</td>\n",
       "      <td>2885.0</td>\n",
       "      <td>7427.0</td>\n",
       "      <td>2718.0</td>\n",
       "      <td>7.6110</td>\n",
       "      <td>NEAR BAY</td>\n",
       "    </tr>\n",
       "  </tbody>\n",
       "</table>\n",
       "</div>"
      ],
      "text/plain": [
       "       longitude  latitude  housing_median_age  total_rooms  total_bedrooms  \\\n",
       "4780     -118.32     34.04                42.0       1766.0           404.0   \n",
       "10669    -117.86     33.62                23.0       3166.0           411.0   \n",
       "2504     -120.45     36.86                34.0        673.0           173.0   \n",
       "3456     -118.42     34.32                30.0       3027.0           604.0   \n",
       "9762     -121.73     36.50                27.0       3184.0           520.0   \n",
       "7096     -118.00     33.93                24.0       4534.0           967.0   \n",
       "162      -122.24     37.81                52.0       2513.0           502.0   \n",
       "11988    -117.51     34.00                36.0       3791.0           746.0   \n",
       "4654     -118.33     34.05                48.0       2405.0           527.0   \n",
       "570      -122.24     37.72                 5.0      18634.0          2885.0   \n",
       "\n",
       "       population  households  median_income ocean_proximity  \n",
       "4780       1117.0       367.0         2.0259       <1H OCEAN  \n",
       "10669      1092.0       345.0         7.9367       <1H OCEAN  \n",
       "2504        539.0       182.0         2.3523          INLAND  \n",
       "3456       1970.0       590.0         4.3409       <1H OCEAN  \n",
       "9762       1121.0       493.0         5.6383       <1H OCEAN  \n",
       "7096       2547.0       895.0         3.9575       <1H OCEAN  \n",
       "162        1048.0       518.0         3.6750        NEAR BAY  \n",
       "11988      2258.0       672.0         3.2067          INLAND  \n",
       "4654       1868.0       502.0         3.3750       <1H OCEAN  \n",
       "570        7427.0      2718.0         7.6110        NEAR BAY  "
      ]
     },
     "execution_count": 21,
     "metadata": {},
     "output_type": "execute_result"
    }
   ],
   "source": [
    "test_data = x_train.sample(10)\n",
    "test_data"
   ]
  },
  {
   "cell_type": "code",
   "execution_count": 23,
   "id": "b7de3f8d",
   "metadata": {},
   "outputs": [
    {
     "data": {
      "text/plain": [
       "4780     168800.0\n",
       "10669    500001.0\n",
       "2504      66000.0\n",
       "3456     156000.0\n",
       "9762     377000.0\n",
       "7096     215400.0\n",
       "162      269900.0\n",
       "11988    124700.0\n",
       "4654     257800.0\n",
       "570      350700.0\n",
       "Name: median_house_value, dtype: float64"
      ]
     },
     "execution_count": 23,
     "metadata": {},
     "output_type": "execute_result"
    }
   ],
   "source": [
    "test_label = y.loc[test_data.index]\n",
    "test_label"
   ]
  },
  {
   "cell_type": "code",
   "execution_count": 24,
   "id": "f7dccf49",
   "metadata": {},
   "outputs": [
    {
     "data": {
      "text/plain": [
       "array([[ 6.29385213e-01, -7.50327052e-01,  1.06265593e+00,\n",
       "        -4.02838445e-01, -3.20999155e-01, -2.72160977e-01,\n",
       "        -3.49086953e-01, -9.74067293e-01, -2.61066999e-01,\n",
       "        -4.60896966e-03,  2.74299024e-01,  1.00000000e+00,\n",
       "         0.00000000e+00,  0.00000000e+00,  0.00000000e+00,\n",
       "         0.00000000e+00],\n",
       "       [ 8.58743834e-01, -9.46900993e-01, -4.45027177e-01,\n",
       "         2.40963773e-01, -3.04292488e-01, -2.94148239e-01,\n",
       "        -4.06836340e-01,  2.12995931e+00,  1.56728209e+00,\n",
       "         5.89513533e-03, -1.43190146e+00,  1.00000000e+00,\n",
       "         0.00000000e+00,  0.00000000e+00,  0.00000000e+00,\n",
       "         0.00000000e+00],\n",
       "       [-4.32644923e-01,  5.69526554e-01,  4.27841989e-01,\n",
       "        -9.05464033e-01, -8.72319162e-01, -7.80506485e-01,\n",
       "        -8.34706795e-01, -8.02659991e-01, -7.27780734e-01,\n",
       "        -1.16961591e-02,  7.62152173e-01,  0.00000000e+00,\n",
       "         1.00000000e+00,  0.00000000e+00,  0.00000000e+00,\n",
       "         0.00000000e+00],\n",
       "       [ 5.79524643e-01, -6.19277757e-01,  1.10435019e-01,\n",
       "         1.77043410e-01,  1.56334185e-01,  4.78044419e-01,\n",
       "         2.36281829e-01,  2.41643200e-01, -1.27644710e-01,\n",
       "         2.09028874e-02, -2.29688628e-01,  1.00000000e+00,\n",
       "         0.00000000e+00,  0.00000000e+00,  0.00000000e+00,\n",
       "         0.00000000e+00],\n",
       "       [-1.07086022e+00,  4.01034605e-01, -1.27620208e-01,\n",
       "         2.49241230e-01, -4.41458178e-02, -2.68643015e-01,\n",
       "        -1.83404665e-02,  9.22966221e-01,  4.28593693e-01,\n",
       "        -7.10916866e-02, -8.54255666e-01,  1.00000000e+00,\n",
       "         0.00000000e+00,  0.00000000e+00,  0.00000000e+00,\n",
       "         0.00000000e+00],\n",
       "       [ 7.88939036e-01, -8.01810703e-01, -3.65675435e-01,\n",
       "         8.70050511e-01,  1.02269420e+00,  9.85510436e-01,\n",
       "         1.03689832e+00,  4.03026369e-02, -1.54698963e-01,\n",
       "        -2.16913632e-02,  7.23329036e-03,  1.00000000e+00,\n",
       "         0.00000000e+00,  0.00000000e+00,  0.00000000e+00,\n",
       "         0.00000000e+00],\n",
       "       [-1.32514912e+00,  1.01415809e+00,  1.85617335e+00,\n",
       "        -5.93239759e-02, -8.71058184e-02, -3.32845821e-01,\n",
       "         4.72838364e-02, -1.08050803e-01, -2.44578829e-01,\n",
       "        -9.27412918e-02, -2.25830521e-01,  0.00000000e+00,\n",
       "         0.00000000e+00,  0.00000000e+00,  1.00000000e+00,\n",
       "         0.00000000e+00],\n",
       "       [ 1.03325583e+00, -7.69048379e-01,  5.86545474e-01,\n",
       "         5.28375477e-01,  4.95240856e-01,  7.31337682e-01,\n",
       "         4.51529542e-01, -3.53976170e-01,  8.63459994e-02,\n",
       "         2.27283563e-02, -2.77204948e-01,  0.00000000e+00,\n",
       "         1.00000000e+00,  0.00000000e+00,  0.00000000e+00,\n",
       "         0.00000000e+00],\n",
       "       [ 6.24399156e-01, -7.45646720e-01,  1.53876638e+00,\n",
       "        -1.08988718e-01, -2.74391509e-02,  3.88336388e-01,\n",
       "         5.28428253e-03, -2.65594280e-01, -2.69927395e-01,\n",
       "         5.39068173e-02,  1.08095392e-01,  1.00000000e+00,\n",
       "         0.00000000e+00,  0.00000000e+00,  0.00000000e+00,\n",
       "         0.00000000e+00],\n",
       "       [-1.32514912e+00,  9.72035101e-01, -1.87335854e+00,\n",
       "         7.35405856e+00,  5.60032093e+00,  5.27742407e+00,\n",
       "         5.82222249e+00,  1.95891961e+00,  5.95040318e-01,\n",
       "        -3.14756343e-02, -1.00068671e+00,  0.00000000e+00,\n",
       "         0.00000000e+00,  0.00000000e+00,  1.00000000e+00,\n",
       "         0.00000000e+00]])"
      ]
     },
     "execution_count": 24,
     "metadata": {},
     "output_type": "execute_result"
    }
   ],
   "source": [
    "test_data_prepared = full_pipeline.transform(test_data)\n",
    "test_data_prepared"
   ]
  },
  {
   "cell_type": "code",
   "execution_count": 25,
   "id": "e562c335",
   "metadata": {},
   "outputs": [],
   "source": [
    "predicted_labels = lr_model.predict(test_data_prepared)"
   ]
  },
  {
   "cell_type": "code",
   "execution_count": 26,
   "id": "feb747c7",
   "metadata": {},
   "outputs": [
    {
     "data": {
      "text/plain": [
       "array([160771.90110863, 370603.00518694, 118120.81479317, 225953.407496  ,\n",
       "       328857.57894001, 223018.28137155, 258598.37963505, 135320.24799215,\n",
       "       207544.33487663, 411157.45952554])"
      ]
     },
     "execution_count": 26,
     "metadata": {},
     "output_type": "execute_result"
    }
   ],
   "source": [
    "predicted_labels"
   ]
  },
  {
   "cell_type": "code",
   "execution_count": 28,
   "id": "4790fe87",
   "metadata": {},
   "outputs": [
    {
     "data": {
      "text/html": [
       "<div>\n",
       "<style scoped>\n",
       "    .dataframe tbody tr th:only-of-type {\n",
       "        vertical-align: middle;\n",
       "    }\n",
       "\n",
       "    .dataframe tbody tr th {\n",
       "        vertical-align: top;\n",
       "    }\n",
       "\n",
       "    .dataframe thead th {\n",
       "        text-align: right;\n",
       "    }\n",
       "</style>\n",
       "<table border=\"1\" class=\"dataframe\">\n",
       "  <thead>\n",
       "    <tr style=\"text-align: right;\">\n",
       "      <th></th>\n",
       "      <th>bashorat</th>\n",
       "      <th>asl qiymati</th>\n",
       "    </tr>\n",
       "  </thead>\n",
       "  <tbody>\n",
       "    <tr>\n",
       "      <th>4780</th>\n",
       "      <td>160771.901109</td>\n",
       "      <td>168800.0</td>\n",
       "    </tr>\n",
       "    <tr>\n",
       "      <th>10669</th>\n",
       "      <td>370603.005187</td>\n",
       "      <td>500001.0</td>\n",
       "    </tr>\n",
       "    <tr>\n",
       "      <th>2504</th>\n",
       "      <td>118120.814793</td>\n",
       "      <td>66000.0</td>\n",
       "    </tr>\n",
       "    <tr>\n",
       "      <th>3456</th>\n",
       "      <td>225953.407496</td>\n",
       "      <td>156000.0</td>\n",
       "    </tr>\n",
       "    <tr>\n",
       "      <th>9762</th>\n",
       "      <td>328857.578940</td>\n",
       "      <td>377000.0</td>\n",
       "    </tr>\n",
       "    <tr>\n",
       "      <th>7096</th>\n",
       "      <td>223018.281372</td>\n",
       "      <td>215400.0</td>\n",
       "    </tr>\n",
       "    <tr>\n",
       "      <th>162</th>\n",
       "      <td>258598.379635</td>\n",
       "      <td>269900.0</td>\n",
       "    </tr>\n",
       "    <tr>\n",
       "      <th>11988</th>\n",
       "      <td>135320.247992</td>\n",
       "      <td>124700.0</td>\n",
       "    </tr>\n",
       "    <tr>\n",
       "      <th>4654</th>\n",
       "      <td>207544.334877</td>\n",
       "      <td>257800.0</td>\n",
       "    </tr>\n",
       "    <tr>\n",
       "      <th>570</th>\n",
       "      <td>411157.459526</td>\n",
       "      <td>350700.0</td>\n",
       "    </tr>\n",
       "  </tbody>\n",
       "</table>\n",
       "</div>"
      ],
      "text/plain": [
       "            bashorat  asl qiymati\n",
       "4780   160771.901109     168800.0\n",
       "10669  370603.005187     500001.0\n",
       "2504   118120.814793      66000.0\n",
       "3456   225953.407496     156000.0\n",
       "9762   328857.578940     377000.0\n",
       "7096   223018.281372     215400.0\n",
       "162    258598.379635     269900.0\n",
       "11988  135320.247992     124700.0\n",
       "4654   207544.334877     257800.0\n",
       "570    411157.459526     350700.0"
      ]
     },
     "execution_count": 28,
     "metadata": {},
     "output_type": "execute_result"
    }
   ],
   "source": [
    "pd.DataFrame({'bashorat':predicted_labels,'asl qiymati':test_label})"
   ]
  },
  {
   "cell_type": "code",
   "execution_count": 29,
   "id": "c3877a92",
   "metadata": {},
   "outputs": [],
   "source": [
    "####### 2-qism test qismi"
   ]
  },
  {
   "cell_type": "code",
   "execution_count": 30,
   "id": "201c779b",
   "metadata": {},
   "outputs": [
    {
     "data": {
      "text/html": [
       "<div>\n",
       "<style scoped>\n",
       "    .dataframe tbody tr th:only-of-type {\n",
       "        vertical-align: middle;\n",
       "    }\n",
       "\n",
       "    .dataframe tbody tr th {\n",
       "        vertical-align: top;\n",
       "    }\n",
       "\n",
       "    .dataframe thead th {\n",
       "        text-align: right;\n",
       "    }\n",
       "</style>\n",
       "<table border=\"1\" class=\"dataframe\">\n",
       "  <thead>\n",
       "    <tr style=\"text-align: right;\">\n",
       "      <th></th>\n",
       "      <th>longitude</th>\n",
       "      <th>latitude</th>\n",
       "      <th>housing_median_age</th>\n",
       "      <th>total_rooms</th>\n",
       "      <th>total_bedrooms</th>\n",
       "      <th>population</th>\n",
       "      <th>households</th>\n",
       "      <th>median_income</th>\n",
       "      <th>median_house_value</th>\n",
       "      <th>ocean_proximity</th>\n",
       "    </tr>\n",
       "  </thead>\n",
       "  <tbody>\n",
       "    <tr>\n",
       "      <th>20046</th>\n",
       "      <td>-119.01</td>\n",
       "      <td>36.06</td>\n",
       "      <td>25.0</td>\n",
       "      <td>1505.0</td>\n",
       "      <td>NaN</td>\n",
       "      <td>1392.0</td>\n",
       "      <td>359.0</td>\n",
       "      <td>1.6812</td>\n",
       "      <td>47700.0</td>\n",
       "      <td>INLAND</td>\n",
       "    </tr>\n",
       "    <tr>\n",
       "      <th>3024</th>\n",
       "      <td>-119.46</td>\n",
       "      <td>35.14</td>\n",
       "      <td>30.0</td>\n",
       "      <td>2943.0</td>\n",
       "      <td>NaN</td>\n",
       "      <td>1565.0</td>\n",
       "      <td>584.0</td>\n",
       "      <td>2.5313</td>\n",
       "      <td>45800.0</td>\n",
       "      <td>INLAND</td>\n",
       "    </tr>\n",
       "    <tr>\n",
       "      <th>15663</th>\n",
       "      <td>-122.44</td>\n",
       "      <td>37.80</td>\n",
       "      <td>52.0</td>\n",
       "      <td>3830.0</td>\n",
       "      <td>NaN</td>\n",
       "      <td>1310.0</td>\n",
       "      <td>963.0</td>\n",
       "      <td>3.4801</td>\n",
       "      <td>500001.0</td>\n",
       "      <td>NEAR BAY</td>\n",
       "    </tr>\n",
       "    <tr>\n",
       "      <th>20484</th>\n",
       "      <td>-118.72</td>\n",
       "      <td>34.28</td>\n",
       "      <td>17.0</td>\n",
       "      <td>3051.0</td>\n",
       "      <td>NaN</td>\n",
       "      <td>1705.0</td>\n",
       "      <td>495.0</td>\n",
       "      <td>5.7376</td>\n",
       "      <td>218600.0</td>\n",
       "      <td>&lt;1H OCEAN</td>\n",
       "    </tr>\n",
       "    <tr>\n",
       "      <th>9814</th>\n",
       "      <td>-121.93</td>\n",
       "      <td>36.62</td>\n",
       "      <td>34.0</td>\n",
       "      <td>2351.0</td>\n",
       "      <td>NaN</td>\n",
       "      <td>1063.0</td>\n",
       "      <td>428.0</td>\n",
       "      <td>3.7250</td>\n",
       "      <td>278000.0</td>\n",
       "      <td>NEAR OCEAN</td>\n",
       "    </tr>\n",
       "  </tbody>\n",
       "</table>\n",
       "</div>"
      ],
      "text/plain": [
       "       longitude  latitude  housing_median_age  total_rooms  total_bedrooms  \\\n",
       "20046    -119.01     36.06                25.0       1505.0             NaN   \n",
       "3024     -119.46     35.14                30.0       2943.0             NaN   \n",
       "15663    -122.44     37.80                52.0       3830.0             NaN   \n",
       "20484    -118.72     34.28                17.0       3051.0             NaN   \n",
       "9814     -121.93     36.62                34.0       2351.0             NaN   \n",
       "\n",
       "       population  households  median_income  median_house_value  \\\n",
       "20046      1392.0       359.0         1.6812             47700.0   \n",
       "3024       1565.0       584.0         2.5313             45800.0   \n",
       "15663      1310.0       963.0         3.4801            500001.0   \n",
       "20484      1705.0       495.0         5.7376            218600.0   \n",
       "9814       1063.0       428.0         3.7250            278000.0   \n",
       "\n",
       "      ocean_proximity  \n",
       "20046          INLAND  \n",
       "3024           INLAND  \n",
       "15663        NEAR BAY  \n",
       "20484       <1H OCEAN  \n",
       "9814       NEAR OCEAN  "
      ]
     },
     "execution_count": 30,
     "metadata": {},
     "output_type": "execute_result"
    }
   ],
   "source": [
    "test_set.head()"
   ]
  },
  {
   "cell_type": "code",
   "execution_count": 32,
   "id": "9a06a2cc",
   "metadata": {},
   "outputs": [],
   "source": [
    "x_test = test_set.drop('median_house_value', axis=1)\n",
    "\n",
    "y_test = test_set['median_house_value'].copy()"
   ]
  },
  {
   "cell_type": "code",
   "execution_count": 33,
   "id": "6299b73e",
   "metadata": {},
   "outputs": [],
   "source": [
    "x_test_prepared = full_pipeline.transform(x_test)"
   ]
  },
  {
   "cell_type": "code",
   "execution_count": 35,
   "id": "d9826760",
   "metadata": {},
   "outputs": [],
   "source": [
    "y_predicted = lr_model.predict(x_test_prepared)"
   ]
  },
  {
   "cell_type": "code",
   "execution_count": 36,
   "id": "6149a5ef",
   "metadata": {},
   "outputs": [
    {
     "data": {
      "text/html": [
       "<div>\n",
       "<style scoped>\n",
       "    .dataframe tbody tr th:only-of-type {\n",
       "        vertical-align: middle;\n",
       "    }\n",
       "\n",
       "    .dataframe tbody tr th {\n",
       "        vertical-align: top;\n",
       "    }\n",
       "\n",
       "    .dataframe thead th {\n",
       "        text-align: right;\n",
       "    }\n",
       "</style>\n",
       "<table border=\"1\" class=\"dataframe\">\n",
       "  <thead>\n",
       "    <tr style=\"text-align: right;\">\n",
       "      <th></th>\n",
       "      <th>bashorat</th>\n",
       "      <th>asl qiymati</th>\n",
       "    </tr>\n",
       "  </thead>\n",
       "  <tbody>\n",
       "    <tr>\n",
       "      <th>20046</th>\n",
       "      <td>61874.254601</td>\n",
       "      <td>47700.0</td>\n",
       "    </tr>\n",
       "    <tr>\n",
       "      <th>3024</th>\n",
       "      <td>121853.525111</td>\n",
       "      <td>45800.0</td>\n",
       "    </tr>\n",
       "    <tr>\n",
       "      <th>15663</th>\n",
       "      <td>267770.943681</td>\n",
       "      <td>500001.0</td>\n",
       "    </tr>\n",
       "    <tr>\n",
       "      <th>20484</th>\n",
       "      <td>264468.298380</td>\n",
       "      <td>218600.0</td>\n",
       "    </tr>\n",
       "    <tr>\n",
       "      <th>9814</th>\n",
       "      <td>258485.695855</td>\n",
       "      <td>278000.0</td>\n",
       "    </tr>\n",
       "    <tr>\n",
       "      <th>...</th>\n",
       "      <td>...</td>\n",
       "      <td>...</td>\n",
       "    </tr>\n",
       "    <tr>\n",
       "      <th>15362</th>\n",
       "      <td>214774.565911</td>\n",
       "      <td>263300.0</td>\n",
       "    </tr>\n",
       "    <tr>\n",
       "      <th>16623</th>\n",
       "      <td>236868.742582</td>\n",
       "      <td>266800.0</td>\n",
       "    </tr>\n",
       "    <tr>\n",
       "      <th>18086</th>\n",
       "      <td>447837.046479</td>\n",
       "      <td>500001.0</td>\n",
       "    </tr>\n",
       "    <tr>\n",
       "      <th>2144</th>\n",
       "      <td>117275.921461</td>\n",
       "      <td>72300.0</td>\n",
       "    </tr>\n",
       "    <tr>\n",
       "      <th>3665</th>\n",
       "      <td>185597.461252</td>\n",
       "      <td>151500.0</td>\n",
       "    </tr>\n",
       "  </tbody>\n",
       "</table>\n",
       "<p>4128 rows × 2 columns</p>\n",
       "</div>"
      ],
      "text/plain": [
       "            bashorat  asl qiymati\n",
       "20046   61874.254601      47700.0\n",
       "3024   121853.525111      45800.0\n",
       "15663  267770.943681     500001.0\n",
       "20484  264468.298380     218600.0\n",
       "9814   258485.695855     278000.0\n",
       "...              ...          ...\n",
       "15362  214774.565911     263300.0\n",
       "16623  236868.742582     266800.0\n",
       "18086  447837.046479     500001.0\n",
       "2144   117275.921461      72300.0\n",
       "3665   185597.461252     151500.0\n",
       "\n",
       "[4128 rows x 2 columns]"
      ]
     },
     "execution_count": 36,
     "metadata": {},
     "output_type": "execute_result"
    }
   ],
   "source": [
    "pd.DataFrame({'bashorat':y_predicted,'asl qiymati':y_test})"
   ]
  },
  {
   "cell_type": "code",
   "execution_count": 37,
   "id": "8219c889",
   "metadata": {},
   "outputs": [],
   "source": [
    "###### tekshirib koramiz\n",
    "#"
   ]
  },
  {
   "cell_type": "code",
   "execution_count": 38,
   "id": "8cb5258f",
   "metadata": {},
   "outputs": [
    {
     "name": "stdout",
     "output_type": "stream",
     "text": [
      "MAE= 50898.73953494079\n"
     ]
    }
   ],
   "source": [
    "from sklearn.metrics import mean_absolute_error\n",
    "\n",
    "mae = mean_absolute_error(y_test, y_predicted)\n",
    "\n",
    "print(\"MAE=\", mae)"
   ]
  },
  {
   "cell_type": "code",
   "execution_count": 39,
   "id": "e73bacde",
   "metadata": {},
   "outputs": [
    {
     "name": "stdout",
     "output_type": "stream",
     "text": [
      "RMSE= 72701.32600762135\n"
     ]
    }
   ],
   "source": [
    "from sklearn.metrics import mean_squared_error\n",
    "\n",
    "mse = mean_squared_error(y_test, y_predicted)\n",
    "\n",
    "print(\"RMSE=\", np.sqrt(mse)) # np.sqrt(mse) qilganimiz sababi kvadratdan chiqazish kk edi rmse natijani olish uchun"
   ]
  },
  {
   "cell_type": "code",
   "execution_count": 40,
   "id": "7693e43e",
   "metadata": {},
   "outputs": [],
   "source": [
    "# RANDOM_FOREST"
   ]
  },
  {
   "cell_type": "code",
   "execution_count": 41,
   "id": "b8cd46fd",
   "metadata": {},
   "outputs": [
    {
     "data": {
      "text/plain": [
       "RandomForestRegressor()"
      ]
     },
     "execution_count": 41,
     "metadata": {},
     "output_type": "execute_result"
    }
   ],
   "source": [
    "from sklearn.ensemble import RandomForestRegressor\n",
    "\n",
    "rf_model = RandomForestRegressor()\n",
    "\n",
    "rf_model.fit(x_prepared, y)"
   ]
  },
  {
   "cell_type": "code",
   "execution_count": 42,
   "id": "ed417da0",
   "metadata": {},
   "outputs": [],
   "source": [
    "y_predicted = rf_model.predict(x_test_prepared)"
   ]
  },
  {
   "cell_type": "code",
   "execution_count": 43,
   "id": "95a9feae",
   "metadata": {},
   "outputs": [
    {
     "name": "stdout",
     "output_type": "stream",
     "text": [
      "RMSE= 50187.17086684911\n"
     ]
    }
   ],
   "source": [
    "from sklearn.metrics import mean_squared_error\n",
    "\n",
    "mse = mean_squared_error(y_test, y_predicted)\n",
    "\n",
    "print(\"RMSE=\", np.sqrt(mse)) # np.sqrt(mse) qilganimiz sababi kvadratdan chiqazish kk edi rmse natijani olish uchun"
   ]
  },
  {
   "cell_type": "code",
   "execution_count": 44,
   "id": "91bfb6ee",
   "metadata": {},
   "outputs": [],
   "source": [
    "# CROSS_VALIDATION"
   ]
  },
  {
   "cell_type": "code",
   "execution_count": 47,
   "id": "c9422a1d",
   "metadata": {},
   "outputs": [],
   "source": [
    "x = df.drop('median_house_value',axis=1)\n",
    "y = df['median_house_value'].copy()\n",
    "\n",
    "x_prepared = full_pipeline.transform(x)"
   ]
  },
  {
   "cell_type": "code",
   "execution_count": 48,
   "id": "eddde9e0",
   "metadata": {},
   "outputs": [
    {
     "data": {
      "text/plain": [
       "array([-5.38681502e+09, -5.59717065e+09, -5.68997624e+09, -5.86890635e+09,\n",
       "       -4.38197413e+09])"
      ]
     },
     "execution_count": 48,
     "metadata": {},
     "output_type": "execute_result"
    }
   ],
   "source": [
    "from sklearn.model_selection import cross_val_score\n",
    "\n",
    "cross_val_score(lr_model, x_prepared, y, scoring=\"neg_mean_squared_error\", cv=5)\n"
   ]
  },
  {
   "cell_type": "code",
   "execution_count": 51,
   "id": "4872cbe4",
   "metadata": {},
   "outputs": [],
   "source": [
    "mse_scores = cross_val_score(lr_model, x_prepared, y, scoring=\"neg_mean_squared_error\", cv=5)\n",
    "\n"
   ]
  },
  {
   "cell_type": "code",
   "execution_count": 53,
   "id": "1bda8a19",
   "metadata": {},
   "outputs": [],
   "source": [
    "def display_scores(scores):\n",
    "    print('scores:', scores)\n",
    "    print('Mean:', scores.mean())\n",
    "    print('std.dev', scores.std())"
   ]
  },
  {
   "cell_type": "code",
   "execution_count": 54,
   "id": "f9a7da0e",
   "metadata": {},
   "outputs": [
    {
     "name": "stdout",
     "output_type": "stream",
     "text": [
      "scores: [73394.92502922 74814.24096819 75431.93119241 76608.78768825\n",
      " 66196.48128669]\n",
      "Mean: 73289.27323295095\n",
      "std.dev 3694.7136787223762\n"
     ]
    }
   ],
   "source": [
    "display_scores(np.sqrt(-mse_scores))"
   ]
  },
  {
   "cell_type": "code",
   "execution_count": 56,
   "id": "5f6c9606",
   "metadata": {},
   "outputs": [
    {
     "name": "stdout",
     "output_type": "stream",
     "text": [
      "scores: [97116.09130572 47424.73387653 65524.07926539 56364.52328054\n",
      " 61336.9342455  59912.85712871 46878.38998078 78773.48014988\n",
      " 74383.0887085  49328.23763982]\n",
      "Mean: 63704.24155813873\n",
      "std.dev 15130.87765315829\n"
     ]
    }
   ],
   "source": [
    "scores = cross_val_score(rf_model, x_prepared, y, scoring='neg_mean_squared_error',cv=10)\n",
    "\n",
    "lr_rmse_scores = np.sqrt(-scores)\n",
    "display_scores(lr_rmse_scores)"
   ]
  },
  {
   "cell_type": "code",
   "execution_count": null,
   "id": "05f961f1",
   "metadata": {},
   "outputs": [],
   "source": []
  }
 ],
 "metadata": {
  "kernelspec": {
   "display_name": "Python 3 (ipykernel)",
   "language": "python",
   "name": "python3"
  },
  "language_info": {
   "codemirror_mode": {
    "name": "ipython",
    "version": 3
   },
   "file_extension": ".py",
   "mimetype": "text/x-python",
   "name": "python",
   "nbconvert_exporter": "python",
   "pygments_lexer": "ipython3",
   "version": "3.9.7"
  }
 },
 "nbformat": 4,
 "nbformat_minor": 5
}
