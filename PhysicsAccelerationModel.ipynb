{
 "cells": [
  {
   "cell_type": "code",
   "execution_count": 6,
   "id": "ad5b6371",
   "metadata": {},
   "outputs": [],
   "source": [
    "#Bu kodni fizikal jarayonni model qilishda Euler usulidan foydalanadi. \n",
    "#Bu usul odatda diferensial tenglamalar yechimi uchun ishlatiladi. \n",
    "#Bu yerda yechilayotgan tenglama - harakatlanayotgan jismni tezlanishini hisoblovchi ikkinchi Newton qonuni.\n",
    "#\n",
    "#Kodning tahlili:\n",
    "\n",
    "1) compute_force(y, v, m = 10, k = 90, c = 10): Bu funksiya, ikkinchi Newton qonuniga asosan kuchni hisoblaydi.\n",
    "Bu yerda y - jismoning holati (qirralik), v - tezlik, m, k, c - muammoga xos konstantalar. \n",
    "Ushbu funksiya -k/m * y + c/m * v formula orqali kuchni hisoblaydi.\n",
    "\n",
    "2) compute_next_values(t, v, d, dt): Bu funksiya vaqtni, tezlikni va holatni yangilaydi.\n",
    "t[-1] + dt yangi vaqtni, v[-1] + compute_force(d[-1], v[-1]) * dt yangi tezlikni va d[-1] + v[-1] * dt yangi holatni hisoblaydi.\n",
    "\n",
    "\n",
    "3)plot_results(values, title=\"\"): Bu funksiya berilgan qiymatlarni (tezlik yoki holat) grafik shaklida chizadi.\n",
    "    \n",
    "4) Boshlang'ich holatlar belgilandi: dt = 0.01, t = [0.], v = [0.], d = [1.].\n",
    "\n",
    "5)Modellash jarayoni bajariladi. Har bir iteratsiyada, yangi t, v va d qiymatlari hisoblanadi \n",
    "          va mos ro'yxatlarga qo'shiladi.\n",
    "    \n",
    "6)Natijalar chiziladi. Bu yerda tezlikning vaqt bo'yicha o'zgarishi ko'rsatiladi.\n",
    "\n",
    "                       TAHLIL :\n",
    "        \n",
    "Bu kodning samaradorligi, aniqligi va kelajakdagi o'zgartirishlarga moslashuvchanligi uchun uning hisoblash \n",
    "jarayonini funksiyalarga bo'lishi yaxshi. Bu usul kodni tushunishni yengillab beradi va uni kelajakda \n",
    "o'zgartirish yoki kengaytirish imkonini beradi."
   ]
  },
  {
   "cell_type": "code",
   "execution_count": 8,
   "id": "795ac598",
   "metadata": {},
   "outputs": [],
   "source": [
    "import matplotlib.pyplot as plt\n"
   ]
  },
  {
   "cell_type": "code",
   "execution_count": 9,
   "id": "9db0a044",
   "metadata": {},
   "outputs": [],
   "source": [
    "def compute_force(y, v, m = 10, k = 90, c = 10):\n",
    "    \"\"\" Compute force based on position, velocity and constants. \"\"\"\n",
    "    return -(k / m) * y + (c / m) * v"
   ]
  },
  {
   "cell_type": "code",
   "execution_count": 10,
   "id": "7f630ea3",
   "metadata": {},
   "outputs": [],
   "source": [
    "def compute_next_values(t, v, d, dt):\n",
    "    \"\"\" Compute next values of time, velocity, and position. \"\"\"\n",
    "    new_t = t[-1] + dt\n",
    "    new_v = v[-1] + compute_force(d[-1], v[-1]) * dt\n",
    "    new_d = d[-1] + v[-1] * dt\n",
    "    return new_t, new_v, new_d"
   ]
  },
  {
   "cell_type": "code",
   "execution_count": 11,
   "id": "87d1a9c4",
   "metadata": {},
   "outputs": [],
   "source": [
    "def plot_results(values, title=\"\"):\n",
    "    \"\"\" Plot given values. \"\"\"\n",
    "    plt.plot(values)\n",
    "    plt.title(title)\n",
    "    plt.show()\n"
   ]
  },
  {
   "cell_type": "code",
   "execution_count": 12,
   "id": "2abb754e",
   "metadata": {},
   "outputs": [],
   "source": [
    "# Initial conditions\n",
    "dt = 0.01\n",
    "t = [0.]\n",
    "v = [0.]\n",
    "d = [1.]\n"
   ]
  },
  {
   "cell_type": "code",
   "execution_count": 13,
   "id": "a9de62d5",
   "metadata": {},
   "outputs": [
    {
     "data": {
      "image/png": "[encoded data removed]",
      "text/plain": [
       "<Figure size 432x288 with 1 Axes>"
      ]
     },
     "metadata": {
      "needs_background": "light"
     },
     "output_type": "display_data"
    }
   ],
   "source": [
    "# Run simulation\n",
    "for i in range(1000):\n",
    "    new_t, new_v, new_d = compute_next_values(t, v, d, dt)\n",
    "    t.append(new_t)\n",
    "    v.append(new_v)\n",
    "    d.append(new_d)\n",
    "\n",
    "# Plot results\n",
    "plot_results(v, title=\"Velocity over time\")\n"
   ]
  },
  {
   "cell_type": "code",
   "execution_count": null,
   "id": "85a2986b",
   "metadata": {},
   "outputs": [],
   "source": []
  }
 ],
 "metadata": {
  "kernelspec": {
   "display_name": "Python 3 (ipykernel)",
   "language": "python",
   "name": "python3"
  },
  "language_info": {
   "codemirror_mode": {
    "name": "ipython",
    "version": 3
   },
   "file_extension": ".py",
   "mimetype": "text/x-python",
   "name": "python",
   "nbconvert_exporter": "python",
   "pygments_lexer": "ipython3",
   "version": "3.9.7"
  }
 },
 "nbformat": 4,
 "nbformat_minor": 5
}
